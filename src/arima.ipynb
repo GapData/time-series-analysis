{
 "cells": [
  {
   "cell_type": "markdown",
   "metadata": {},
   "source": [
    "# Time series - introduction & ARIMA models\n",
    "\n",
    "In this example, we'll explore parts of classical time series analysis and fit a few auto regressive models.\n",
    "\n",
    "For more details on data transformation, model selection & forecasting [visit this site](http://people.duke.edu/~rnau/whatuse.htm)"
   ]
  },
  {
   "cell_type": "code",
   "execution_count": null,
   "metadata": {},
   "outputs": [],
   "source": [
    "import numpy as np\n",
    "import matplotlib\n",
    "import matplotlib.pyplot as plt\n",
    "\n",
    "%matplotlib inline\n",
    "matplotlib.rcParams['figure.figsize'] = (15, 6)\n",
    "\n",
    "import pandas as pd\n",
    "pd.options.display.max_rows = 10"
   ]
  },
  {
   "cell_type": "code",
   "execution_count": null,
   "metadata": {},
   "outputs": [],
   "source": [
    "data = pd.read_csv('../data/AirPassengers.csv', parse_dates=True, index_col='Month',date_parser=lambda x: pd.datetime.strptime(x, '%Y-%m'))\n",
    "ts = data['#Passengers']\n",
    "data"
   ]
  },
  {
   "cell_type": "markdown",
   "metadata": {},
   "source": [
    "We'll use a well-known air passengers time series for this example. Notice the date parsion function that allows us to build an index on this time series."
   ]
  },
  {
   "cell_type": "code",
   "execution_count": null,
   "metadata": {},
   "outputs": [],
   "source": [
    "plt.plot(ts)\n",
    "plt.show()"
   ]
  },
  {
   "cell_type": "markdown",
   "metadata": {},
   "source": [
    "Next, we will make the time series stationary. Stationarity is a useful concept for forecasting as it simplifies the theory behind and allow us to use certain models.\n",
    "\n",
    "Time series is stationary if the following conditions are fulfilled:\n",
    "\n",
    "1. The mean of the series should not be a function of time\n",
    "2. The variance of the series should not a be a function of time\n",
    "3. The covariance of the i-th term and the (i + k)-th term should not be a function of time\n",
    "\n",
    "We can perform a statistical test to see if the time series is constant. The test is known as **Dickey Fuller** test.\n",
    "We will run the test on the time series data and watch the *Test Statistic*. If it gets lower then the *Critical value*, we can reject the null hypothesis and say that the series is stationary."
   ]
  },
  {
   "cell_type": "code",
   "execution_count": null,
   "metadata": {},
   "outputs": [],
   "source": [
    "from statsmodels.tsa.stattools import adfuller\n",
    "from statsmodels.tsa.seasonal import seasonal_decompose\n",
    "\n",
    "def test_stationarity(timeseries):\n",
    "        \n",
    "    rolling = timeseries.rolling(center=False, window=12)        \n",
    "    \n",
    "    plt.plot(timeseries, color='blue',label='Original')\n",
    "    plt.plot(rolling.mean(), color='red', label='Rolling Mean')\n",
    "    plt.plot(rolling.std(), color='black', label = 'Rolling Std')\n",
    "    plt.legend(loc='best')\n",
    "    plt.title('Rolling Mean & Standard Deviation')\n",
    "    plt.show()\n",
    "        \n",
    "    \n",
    "    df_test = adfuller(timeseries, autolag='AIC')\n",
    "    output = pd.Series(df_test[0:4], index=['Test Statistic','p-value','#Lags Used','Number of Observations Used'])\n",
    "        \n",
    "    for key, value in df_test[4].items():\n",
    "        output['Critical Value (%s)' % key] = value\n",
    "        \n",
    "    print('Dickey-Fuller test:')    \n",
    "    print(output)"
   ]
  },
  {
   "cell_type": "markdown",
   "metadata": {},
   "source": [
    "Next, we can try *seasonal_decompose* library function that can perform trend & seasonality cocomposion at once. Let's see how stationarity test performs on **residuals** (after decomposion)"
   ]
  },
  {
   "cell_type": "code",
   "execution_count": null,
   "metadata": {},
   "outputs": [],
   "source": [
    "def decompose(ts):\n",
    "    \n",
    "    decomposition = seasonal_decompose(ts)\n",
    "    plt.subplot(411)\n",
    "    plt.plot(ts, label='Original')\n",
    "    plt.legend(loc='best')\n",
    "    plt.subplot(412)\n",
    "    plt.plot(decomposition.trend, label='Trend')\n",
    "    plt.legend(loc='best')\n",
    "    plt.subplot(413)\n",
    "    plt.plot(decomposition.seasonal, label='Seasonality')\n",
    "    plt.legend(loc='best')\n",
    "    plt.subplot(414)\n",
    "    plt.plot(decomposition.resid, label='Residuals')\n",
    "    plt.legend(loc='best')\n",
    "    plt.tight_layout()\n",
    "    plt.show()\n",
    "    \n",
    "    return decomposition"
   ]
  },
  {
   "cell_type": "code",
   "execution_count": null,
   "metadata": {},
   "outputs": [],
   "source": [
    "#TODO: test stationarity & try decompose"
   ]
  },
  {
   "cell_type": "markdown",
   "metadata": {},
   "source": [
    "## Model fitting\n",
    "\n",
    "Let's try to fit one of the models onto our data but we need to make the time series stationary before.\n",
    "\n",
    "First, we will use popular log & difference transform to get rid of trend and time dependent variance. The stationarity test should reflect this transformation."
   ]
  },
  {
   "cell_type": "code",
   "execution_count": null,
   "metadata": {},
   "outputs": [],
   "source": [
    "#TODO: try to apply logarithm & shift, then test stationarity again."
   ]
  },
  {
   "cell_type": "markdown",
   "metadata": {},
   "source": [
    "..now, we will fit the ARIMA model (**A**uto**R**egressive **I**ntegrated **M**oving **A**verage) to our data. Parameters can be set by inspection of auto-correlation and partial auto-correlation plots.\n",
    "\n",
    "After the model is fitted, we can plot it over original data. Notice that we are still in the transformed space."
   ]
  },
  {
   "cell_type": "code",
   "execution_count": null,
   "metadata": {
    "scrolled": false
   },
   "outputs": [],
   "source": [
    "from statsmodels.tsa.arima_model import ARIMA\n",
    "\n",
    "#TODO: instatiate ARIMA model and fit it. (use order=(2, 0, 2) or (2, 1, 2) based on used ts (shift or no shift)) Visualize fitted values.\n",
    "\n",
    "model = ARIMA( ... )  \n",
    "results = ...\n",
    "\n",
    "#plt.plot(results.fittedvalues, c='r')"
   ]
  },
  {
   "cell_type": "markdown",
   "metadata": {},
   "source": [
    "Last step is to inverse-transform the data back to the original domain.\n",
    "\n",
    "As we took a log & difference, we need to apply them in reverse order (i.e. cumulative sum & exp). Also, notice that with difference we lost the constant and we need to replace it with the first value of the original dataset.\n",
    "\n",
    "Same apply for prediction out of the sample (to the future) whre we use the last datapoint from the original time series"
   ]
  },
  {
   "cell_type": "code",
   "execution_count": null,
   "metadata": {
    "scrolled": false
   },
   "outputs": [],
   "source": [
    "import datetime\n",
    "from datetime import timedelta\n",
    "\n",
    "start=ts.index[-1]\n",
    "end=ts.index[-1] + timedelta(days=365 * 2)\n",
    "\n",
    "prediction = results.predict(start=ts.index[-1], end=ts.index[-1] + timedelta(days=365 * 2), dynamic=True)\n",
    "\n",
    "#TODO: inverse-transform prediciton to the original space"
   ]
  },
  {
   "cell_type": "markdown",
   "metadata": {},
   "source": [
    "There are more advanced models like SARIMAX, that separates the model for seasonal part. The usage is very similar although there are more hyper parameters to setup. One can use grid search to find to best combination of hyper parameters (not shown here).\n",
    "\n",
    "As the model is a statistical one, The prediction plot may contain confidence intervals to see how certain the model is about its own prediction (gray area) i.e. according to the model, the prediction should be within the interval with 95% certainty."
   ]
  },
  {
   "cell_type": "code",
   "execution_count": null,
   "metadata": {},
   "outputs": [],
   "source": [
    "from statsmodels.tsa.statespace.sarimax import SARIMAX\n",
    "\n",
    "#TODO: try to fit SARIMAX model"
   ]
  }
 ],
 "metadata": {
  "kernelspec": {
   "display_name": "Python 3",
   "language": "python",
   "name": "python3"
  },
  "language_info": {
   "codemirror_mode": {
    "name": "ipython",
    "version": 3
   },
   "file_extension": ".py",
   "mimetype": "text/x-python",
   "name": "python",
   "nbconvert_exporter": "python",
   "pygments_lexer": "ipython3",
   "version": "3.5.2"
  }
 },
 "nbformat": 4,
 "nbformat_minor": 2
}
