{
 "cells": [
  {
   "cell_type": "markdown",
   "metadata": {},
   "source": [
    "# Time series - multivariate prediction, LSTM for continuous prediction\n",
    "\n",
    "In this example we will load prepared data and try to predict it with a lstm network producing continuous prediction\n",
    "\n",
    "This example is very similar to the last lstm example except the model is trained to predict one step into the future that can be used for latter predictions."
   ]
  },
  {
   "cell_type": "code",
   "execution_count": null,
   "metadata": {},
   "outputs": [],
   "source": [
    "import numpy as np\n",
    "import os\n",
    "from datetime import date\n",
    "import re\n",
    "\n",
    "import matplotlib.pyplot as plt\n",
    "%matplotlib inline\n",
    "\n",
    "import pandas as pd\n",
    "pd.options.display.max_rows = 30"
   ]
  },
  {
   "cell_type": "code",
   "execution_count": null,
   "metadata": {},
   "outputs": [],
   "source": [
    "training_df = pd.read_pickle(\"../data/weather/ts_temp_dp_press.p\")"
   ]
  },
  {
   "cell_type": "markdown",
   "metadata": {},
   "source": [
    "Notice that we would randomly sample the training data from the whole weather history.\n",
    "\n",
    "The `indices` array will contain starting date for each sample"
   ]
  },
  {
   "cell_type": "code",
   "execution_count": null,
   "metadata": {},
   "outputs": [],
   "source": [
    "import random\n",
    "\n",
    "PREDICTION_LEN = 7\n",
    "HISTORY_LEN = 14\n",
    "NUM_SAMPLES = 2000\n",
    "NUM_INPUTS = len(training_df.columns)\n",
    "\n",
    "indices = random.sample(range(0,len(training_df) - HISTORY_LEN - 1), NUM_SAMPLES)"
   ]
  },
  {
   "cell_type": "markdown",
   "metadata": {},
   "source": [
    "In this example the target sequence is shifted one step into the future. The model need to accumulate information in its inner state to correctly predict it.\n",
    "\n",
    "Both input and output tensors remain in sequence form."
   ]
  },
  {
   "cell_type": "code",
   "execution_count": null,
   "metadata": {},
   "outputs": [],
   "source": [
    "ts_data = training_df.values\n",
    "ts_inputs = #TODO: add correctly selected input data based on indices\n",
    "ts_outputs = #TODO: add correctly selected output data based on indices (one step ahead forecact)"
   ]
  },
  {
   "cell_type": "code",
   "execution_count": null,
   "metadata": {},
   "outputs": [],
   "source": [
    "#TODO: build model for one step ahead forecast. (many->many)"
   ]
  },
  {
   "cell_type": "code",
   "execution_count": null,
   "metadata": {
    "scrolled": false
   },
   "outputs": [],
   "source": [
    "model.fit(ts_inputs, ts_outputs, validation_split=0.1, epochs=100)"
   ]
  },
  {
   "cell_type": "code",
   "execution_count": null,
   "metadata": {},
   "outputs": [],
   "source": [
    "model.save_weights('model_plus1_predition.hdf')"
   ]
  },
  {
   "cell_type": "code",
   "execution_count": null,
   "metadata": {},
   "outputs": [],
   "source": [
    "#TODO: build model for one step ahead forecast but use stateful  (many->many)\n",
    "\n",
    "pred_model = Model(inputs, outputs)\n",
    "pred_model.summary()\n",
    "pred_model.load_weights('model_plus1_predition.hdf')"
   ]
  },
  {
   "cell_type": "markdown",
   "metadata": {},
   "source": [
    "## Prediction phase\n",
    "\n",
    "To test the prediction, we will take a particular date and feed the history into the network.\n",
    "\n",
    "The network will predict one step into the future and we will take this prediction and feed it back to the network. In this way, we can predict multiple (and variable) steps into the future\n",
    "\n",
    "Notice that the model is `stateful` i.e. the hidden state does not reset after the prediction."
   ]
  },
  {
   "cell_type": "code",
   "execution_count": null,
   "metadata": {},
   "outputs": [],
   "source": [
    "import datetime\n",
    "from datetime import timedelta"
   ]
  },
  {
   "cell_type": "code",
   "execution_count": null,
   "metadata": {},
   "outputs": [],
   "source": [
    "prediction_date = date(2014, 12, 23)\n",
    "\n",
    "prediction_input = training_df[prediction_date - timedelta(days=HISTORY_LEN - 1): prediction_date]\n",
    "\n",
    "pred_model.reset_states()\n",
    "for i in range(0, HISTORY_LEN):\n",
    "    prediction = pred_model.predict(prediction_input.values[i].reshape(1, 1, NUM_INPUTS))\n",
    "    \n",
    "self_predicition = [np.copy(prediction)] #add to this list in the loop below\n",
    "\n",
    "for i in range(0, PREDICTION_LEN - 1):\n",
    "    #TODO: forecast into the future by feeding the model its own output\n",
    "    \n",
    "history = training_df[prediction_date - timedelta(days=HISTORY_LEN - 1): prediction_date + timedelta(days=PREDICTION_LEN)]\n",
    "prediction_df = pd.DataFrame(np.vstack(self_predicition).reshape((PREDICTION_LEN, NUM_INPUTS)), index=pd.DatetimeIndex(start=prediction_date + timedelta(days=1), freq='D', periods=PREDICTION_LEN))\n"
   ]
  },
  {
   "cell_type": "code",
   "execution_count": null,
   "metadata": {},
   "outputs": [],
   "source": [
    "plt.figure(figsize = (12, 6))\n",
    "history_plt = plt.plot(history.iloc[:,0:3], linestyle='--')\n",
    "plt.plot(history.iloc[:,3], 'oc')\n",
    "plt.plot(prediction_df.iloc[:,0], color=history_plt[0].get_color())\n",
    "plt.plot(prediction_df.iloc[:,1], color=history_plt[1].get_color())\n",
    "plt.plot(prediction_df.iloc[:,2], color=history_plt[2].get_color())\n",
    "plt.plot(prediction_df.iloc[:,3], 'or')\n",
    "plt.show()"
   ]
  }
 ],
 "metadata": {
  "kernelspec": {
   "display_name": "Python 3",
   "language": "python",
   "name": "python3"
  },
  "language_info": {
   "codemirror_mode": {
    "name": "ipython",
    "version": 3
   },
   "file_extension": ".py",
   "mimetype": "text/x-python",
   "name": "python",
   "nbconvert_exporter": "python",
   "pygments_lexer": "ipython3",
   "version": "3.5.2"
  }
 },
 "nbformat": 4,
 "nbformat_minor": 2
}
