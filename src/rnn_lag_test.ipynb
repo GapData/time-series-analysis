{
 "cells": [
  {
   "cell_type": "code",
   "execution_count": null,
   "metadata": {},
   "outputs": [],
   "source": [
    "import numpy as np\n",
    "import matplotlib.pyplot as plt\n",
    "import random\n",
    "\n",
    "from keras import Model\n",
    "from keras.layers import Input, Dense, Dropout, LSTM, SimpleRNN, GRU\n",
    "\n",
    "%matplotlib inline"
   ]
  },
  {
   "cell_type": "code",
   "execution_count": null,
   "metadata": {},
   "outputs": [],
   "source": [
    "MIN_EVENT_TIME = 5\n",
    "MAX_EVENT_TIME = 20\n",
    "MIN_EVENT_POWER = 0.05\n",
    "MAX_EVENT_POWER = 0.5\n",
    "\n",
    "BASINS = [\n",
    "    (0.02, 20),\n",
    "    (0.02, 30),\n",
    "    (0.01, 35),\n",
    "    (0.03, 41),\n",
    "    (0.02, 45),\n",
    "    (0.01, 54),\n",
    "    (0.02, 65),\n",
    "    (0.01, 75),\n",
    "]\n",
    "\n",
    "def gen_precip(num_samples, num_events):  \n",
    "    \n",
    "    result = np.zeros(num_samples)\n",
    "    \n",
    "    for event_start in random.sample(range(num_samples - MAX_EVENT_TIME), num_events):\n",
    "        event = np.zeros((num_samples,))\n",
    "        event_time = random.randint(MIN_EVENT_TIME, MAX_EVENT_TIME)\n",
    "        event_power = random.random() * (MAX_EVENT_POWER - MIN_EVENT_POWER) + MIN_EVENT_POWER\n",
    "        event[event_start: event_start + event_time] = (np.cos(np.linspace(-np.pi, np.pi, num=event_time)) * 0.5 + 0.5) * event_power\n",
    "        result += event\n",
    "    \n",
    "    return result\n",
    "\n",
    "def gen_discharge(basins, precip, runoff):            \n",
    "    all_precip = np.zeros(precip.shape)\n",
    "    \n",
    "    for basin in basins:\n",
    "        lagged = np.roll(precip * basin[0], basin[1])\n",
    "        lagged[:basin[1]] = 0\n",
    "        all_precip += lagged\n",
    "        \n",
    "    discharge = np.zeros(precip.shape)\n",
    "        \n",
    "    for i in range(1, len(discharge)):\n",
    "        discharge[i] = discharge[i - 1]  * (1 - runoff) + all_precip[i]\n",
    "        \n",
    "    return discharge, precip"
   ]
  },
  {
   "cell_type": "code",
   "execution_count": null,
   "metadata": {},
   "outputs": [],
   "source": [
    "precip = gen_precip(500, 20)\n",
    "discharge, _ = gen_discharge(BASINS, precip, 0.05)\n",
    "\n",
    "plt.figure(figsize=(30,6))\n",
    "plt.plot(precip)\n",
    "plt.plot(discharge)\n",
    "plt.show()"
   ]
  },
  {
   "cell_type": "code",
   "execution_count": null,
   "metadata": {},
   "outputs": [],
   "source": [
    "import random\n",
    "\n",
    "NUM_SAMPLES = 2000\n",
    "SEQ_LEN = 500\n",
    "\n",
    "raw_train_Y, raw_train_X = zip(*[gen_discharge(BASINS, gen_precip(SEQ_LEN, 10), 0.01) for i in range(NUM_SAMPLES)])"
   ]
  },
  {
   "cell_type": "code",
   "execution_count": null,
   "metadata": {},
   "outputs": [],
   "source": [
    "inputs = Input(shape=(SEQ_LEN,))\n",
    "x = Dense(200, activation='tanh')(inputs)\n",
    "x = Dense(200, activation='tanh')(x)\n",
    "x = Dense(200, activation='tanh')(x)\n",
    "outputs = Dense(SEQ_LEN, activation='linear')(x)\n",
    "\n",
    "model = Model(inputs, outputs)\n",
    "model.compile(optimizer='adam', loss='mse')\n",
    "model.summary()\n",
    "\n",
    "train_X = np.vstack(raw_train_X)\n",
    "train_Y = np.vstack(raw_train_Y)"
   ]
  },
  {
   "cell_type": "code",
   "execution_count": null,
   "metadata": {},
   "outputs": [],
   "source": [
    "inputs = Input(shape=(None, 1))\n",
    "x = SimpleRNN(128, return_sequences=True)(inputs)\n",
    "x = SimpleRNN(64, return_sequences=True)(x)\n",
    "outputs = SimpleRNN(1, return_sequences=True, activation='linear')(x)\n",
    "\n",
    "model = Model(inputs, outputs)\n",
    "model.compile(optimizer='adam', loss='mse')\n",
    "model.summary()\n",
    "\n",
    "train_X = np.vstack(raw_train_X).reshape((NUM_SAMPLES, SEQ_LEN, 1))\n",
    "train_Y = np.vstack(raw_train_Y).reshape((NUM_SAMPLES, SEQ_LEN, 1))"
   ]
  },
  {
   "cell_type": "code",
   "execution_count": null,
   "metadata": {},
   "outputs": [],
   "source": [
    "inputs = Input(shape=(None, 1))\n",
    "x = LSTM(128, return_sequences=True, recurrent_activation='sigmoid')(inputs)\n",
    "outputs = Dense(1, activation='linear')(x)\n",
    "\n",
    "model = Model(inputs, outputs)\n",
    "model.compile(optimizer='adam', loss='mse')\n",
    "model.summary()\n",
    "\n",
    "train_X = np.vstack(raw_train_X).reshape((NUM_SAMPLES, SEQ_LEN, 1))\n",
    "train_Y = np.vstack(raw_train_Y).reshape((NUM_SAMPLES, SEQ_LEN, 1))"
   ]
  },
  {
   "cell_type": "code",
   "execution_count": null,
   "metadata": {
    "scrolled": false
   },
   "outputs": [],
   "source": [
    "progress = model.fit(train_X, train_Y, validation_split=0.1, epochs=50)"
   ]
  },
  {
   "cell_type": "code",
   "execution_count": null,
   "metadata": {},
   "outputs": [],
   "source": [
    "TEST_SEQ_LEN = 2000\n",
    "test_output, test_input = gen_discharge(BASINS, gen_precip(TEST_SEQ_LEN, 40), 0.01)"
   ]
  },
  {
   "cell_type": "code",
   "execution_count": null,
   "metadata": {},
   "outputs": [],
   "source": [
    "prediction = model.predict(test_input.reshape((1, TEST_SEQ_LEN, 1)))[0]"
   ]
  },
  {
   "cell_type": "code",
   "execution_count": null,
   "metadata": {},
   "outputs": [],
   "source": [
    "plt.figure(figsize=(30,6))\n",
    "plt.plot(test_input)\n",
    "plt.plot(prediction, 'green')\n",
    "plt.plot(test_output, 'r--')\n",
    "plt.show()"
   ]
  },
  {
   "cell_type": "code",
   "execution_count": null,
   "metadata": {},
   "outputs": [],
   "source": [
    "p1 = model.predict(test_input[:SEQ_LEN].reshape((1, SEQ_LEN)))[0]\n",
    "p2 = model.predict(test_input[SEQ_LEN - 200: 2 * SEQ_LEN - 200].reshape((1, SEQ_LEN)))[0]\n",
    "\n",
    "plt.figure(figsize=(20,6))\n",
    "plt.plot(test_input)\n",
    "plt.plot(range(SEQ_LEN - 200,  2 * SEQ_LEN - 200), p2, 'lime')\n",
    "plt.plot(range(SEQ_LEN), p1, 'green')\n",
    "plt.plot(test_output, 'r--')\n",
    "plt.show()"
   ]
  }
 ],
 "metadata": {
  "kernelspec": {
   "display_name": "Python 3",
   "language": "python",
   "name": "python3"
  },
  "language_info": {
   "codemirror_mode": {
    "name": "ipython",
    "version": 3
   },
   "file_extension": ".py",
   "mimetype": "text/x-python",
   "name": "python",
   "nbconvert_exporter": "python",
   "pygments_lexer": "ipython3",
   "version": "3.5.2"
  }
 },
 "nbformat": 4,
 "nbformat_minor": 2
}
