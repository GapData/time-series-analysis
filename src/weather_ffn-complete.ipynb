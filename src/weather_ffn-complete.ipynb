{
 "cells": [
  {
   "cell_type": "markdown",
   "metadata": {},
   "source": [
    "# Time series - multivariate prediction, feed-forward network\n",
    "\n",
    "In this example we will load prepared data and try to predict it with the simple feed-forward network."
   ]
  },
  {
   "cell_type": "code",
   "execution_count": null,
   "metadata": {},
   "outputs": [],
   "source": [
    "import numpy as np\n",
    "import os\n",
    "from datetime import date\n",
    "import re\n",
    "\n",
    "import matplotlib.pyplot as plt\n",
    "%matplotlib inline\n",
    "\n",
    "import pandas as pd\n",
    "pd.options.display.max_rows = 30"
   ]
  },
  {
   "cell_type": "code",
   "execution_count": null,
   "metadata": {},
   "outputs": [],
   "source": [
    "training_df = pd.read_pickle(\"../data/weather/ts_temp_dp_press.p\")"
   ]
  },
  {
   "cell_type": "markdown",
   "metadata": {},
   "source": [
    "Notice that we would randomly sample the training data from the whole weather history.\n",
    "\n",
    "The `indices` array will contain starting date for each sample"
   ]
  },
  {
   "cell_type": "code",
   "execution_count": null,
   "metadata": {},
   "outputs": [],
   "source": [
    "import random\n",
    "\n",
    "HISTORY_LEN = 14\n",
    "PREDICTION_LEN = 7\n",
    "NUM_SAMPLES = 2000\n",
    "NUM_INPUTS = len(training_df.columns)\n",
    "\n",
    "indices = random.sample(range(0,len(training_df) - HISTORY_LEN - PREDICTION_LEN), NUM_SAMPLES)"
   ]
  },
  {
   "cell_type": "markdown",
   "metadata": {},
   "source": [
    "We need to reshape the data to a fixed-sized one-dimensional inputs and outputs"
   ]
  },
  {
   "cell_type": "code",
   "execution_count": null,
   "metadata": {},
   "outputs": [],
   "source": [
    "ts_data = training_df.values\n",
    "ts_inputs = np.array([ts_data[i:i + HISTORY_LEN] for i in indices]).reshape((NUM_SAMPLES, HISTORY_LEN * NUM_INPUTS))\n",
    "ts_outputs = np.array([ts_data[i + HISTORY_LEN: i + HISTORY_LEN + PREDICTION_LEN] for i in indices]).reshape((NUM_SAMPLES, PREDICTION_LEN * NUM_INPUTS))"
   ]
  },
  {
   "cell_type": "markdown",
   "metadata": {},
   "source": [
    "Now, we build the feed-forward model.\n",
    "\n",
    "Notice several details:\n",
    "- dropout layers to mitigate possible overfitting.\n",
    "- linear activation at the last layer (regression task)\n",
    "- `mse` loss for regression instead of `crossentropy` for classification"
   ]
  },
  {
   "cell_type": "code",
   "execution_count": null,
   "metadata": {},
   "outputs": [],
   "source": [
    "from keras import Model\n",
    "from keras.layers import Input, Dense, Dropout\n",
    "\n",
    "inputs = Input(shape=ts_inputs.shape[1:])\n",
    "x = Dense(200, activation='tanh')(inputs)\n",
    "x = Dropout(0.1)(x)\n",
    "x = Dense(100, activation='tanh')(x)\n",
    "x = Dropout(0.1)(x)\n",
    "x = Dense(50, activation='tanh')(x)\n",
    "x = Dropout(0.1)(x)\n",
    "outputs = Dense(PREDICTION_LEN * NUM_INPUTS, activation='linear')(x)\n",
    "\n",
    "model = Model(inputs, outputs)\n",
    "model.compile(optimizer='adam', loss='mse')\n",
    "model.summary()"
   ]
  },
  {
   "cell_type": "code",
   "execution_count": null,
   "metadata": {
    "scrolled": false
   },
   "outputs": [],
   "source": [
    "model.fit(ts_inputs, ts_outputs, validation_split=0.1, epochs=400)"
   ]
  },
  {
   "cell_type": "markdown",
   "metadata": {},
   "source": [
    "## Prediction phase\n",
    "\n",
    "To test the prediction, we will take a particular date and feed the fixed-length history into the network\n",
    "\n",
    "Notice the `DatetimeIndex` usage that allows us to easily align our prediction to the input time series."
   ]
  },
  {
   "cell_type": "code",
   "execution_count": null,
   "metadata": {},
   "outputs": [],
   "source": [
    "import datetime\n",
    "from datetime import timedelta"
   ]
  },
  {
   "cell_type": "code",
   "execution_count": null,
   "metadata": {},
   "outputs": [],
   "source": [
    "prediction_date = date(2013, 1, 7)\n",
    "\n",
    "prediction_input = training_df[prediction_date - timedelta(days=HISTORY_LEN - 1): prediction_date]\n",
    "prediction = model.predict(prediction_input.values.reshape(1, HISTORY_LEN * NUM_INPUTS))\n",
    "\n",
    "history = training_df[prediction_date - timedelta(days=HISTORY_LEN - 1): prediction_date + timedelta(days=PREDICTION_LEN)]\n",
    "prediction_df = pd.DataFrame(prediction.reshape((PREDICTION_LEN, NUM_INPUTS)), index=pd.DatetimeIndex(start=prediction_date + timedelta(days=1), freq='D', periods=PREDICTION_LEN))"
   ]
  },
  {
   "cell_type": "code",
   "execution_count": null,
   "metadata": {},
   "outputs": [],
   "source": [
    "plt.figure(figsize = (12, 6))\n",
    "history_plt = plt.plot(history.iloc[:,0:3], linestyle='--')\n",
    "plt.plot(history.iloc[:,3], 'oc')\n",
    "plt.plot(prediction_df.iloc[:,0], color=history_plt[0].get_color())\n",
    "plt.plot(prediction_df.iloc[:,1], color=history_plt[1].get_color())\n",
    "plt.plot(prediction_df.iloc[:,2], color=history_plt[2].get_color())\n",
    "plt.plot(prediction_df.iloc[:,3], 'or')\n",
    "plt.show()"
   ]
  }
 ],
 "metadata": {
  "kernelspec": {
   "display_name": "Python 3",
   "language": "python",
   "name": "python3"
  },
  "language_info": {
   "codemirror_mode": {
    "name": "ipython",
    "version": 3
   },
   "file_extension": ".py",
   "mimetype": "text/x-python",
   "name": "python",
   "nbconvert_exporter": "python",
   "pygments_lexer": "ipython3",
   "version": "3.5.2"
  }
 },
 "nbformat": 4,
 "nbformat_minor": 2
}
